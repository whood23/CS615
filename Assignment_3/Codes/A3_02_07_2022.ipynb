{
 "cells": [
  {
   "cell_type": "code",
   "execution_count": 95,
   "metadata": {},
   "outputs": [],
   "source": [
    "import numpy as np\n",
    "from matplotlib import pyplot as plt\n",
    "import math as math"
   ]
  },
  {
   "cell_type": "code",
   "execution_count": 2,
   "metadata": {},
   "outputs": [],
   "source": [
    "my_data = np.genfromtxt('mcpd_augmented.csv', delimiter=',')"
   ]
  },
  {
   "cell_type": "markdown",
   "metadata": {},
   "source": [
    "##### Index a column in numpy display(my_data[:,1])"
   ]
  },
  {
   "cell_type": "code",
   "execution_count": 2,
   "metadata": {},
   "outputs": [
    {
     "ename": "NameError",
     "evalue": "name 'my_data' is not defined",
     "output_type": "error",
     "traceback": [
      "\u001B[1;31m---------------------------------------------------------------------------\u001B[0m",
      "\u001B[1;31mNameError\u001B[0m                                 Traceback (most recent call last)",
      "Input \u001B[1;32mIn [2]\u001B[0m, in \u001B[0;36m<module>\u001B[1;34m\u001B[0m\n\u001B[0;32m      1\u001B[0m \u001B[38;5;66;03m## Needs to set up the standard Deviation and the Standard mean in row form...\u001B[39;00m\n\u001B[1;32m----> 3\u001B[0m mean_data \u001B[38;5;241m=\u001B[39m np\u001B[38;5;241m.\u001B[39mmean(\u001B[43mmy_data\u001B[49m,axis\u001B[38;5;241m=\u001B[39m\u001B[38;5;241m0\u001B[39m)\n\u001B[0;32m      4\u001B[0m std_data \u001B[38;5;241m=\u001B[39m np\u001B[38;5;241m.\u001B[39mstd(my_data,axis\u001B[38;5;241m=\u001B[39m\u001B[38;5;241m0\u001B[39m)\n\u001B[0;32m      5\u001B[0m std_data[std_data\u001B[38;5;241m==\u001B[39m\u001B[38;5;241m0\u001B[39m]\u001B[38;5;241m=\u001B[39m\u001B[38;5;241m1\u001B[39m\n",
      "\u001B[1;31mNameError\u001B[0m: name 'my_data' is not defined"
     ]
    }
   ],
   "source": [
    "## Needs to set up the standard Deviation and the Standard mean in row form...\n",
    "\n",
    "mean_data = np.mean(my_data,axis=0)\n",
    "std_data = np.std(my_data,axis=0)\n",
    "std_data[std_data==0]=1"
   ]
  },
  {
   "cell_type": "markdown",
   "metadata": {},
   "source": [
    "Z-Score = (value-mean)/std"
   ]
  },
  {
   "cell_type": "code",
   "execution_count": 42,
   "metadata": {},
   "outputs": [],
   "source": [
    "z_scored_data = (my_data - mean_data) / std_data"
   ]
  },
  {
   "cell_type": "markdown",
   "metadata": {},
   "source": [
    "## Activation Layers"
   ]
  },
  {
   "cell_type": "code",
   "execution_count": 35,
   "metadata": {},
   "outputs": [],
   "source": [
    "def Linear(Layer):\n",
    "    linear_data = Layer\n",
    "    return linear_data\n",
    "def ReLu(Layer):\n",
    "    relu_data = np.maximum(0,Layer)\n",
    "    return relu_data\n",
    "def Sigmoid(Layer):\n",
    "    sig_data = 1/(1+np.exp(-Layer))\n",
    "    return sig_data\n",
    "def Softmax(Layer):\n",
    "    top, bottom = np.exp(Layer-(np.amax(Layer, axis=0))), np.sum(np.exp(Layer-(np.amax(Layer, axis=0))))\n",
    "    soft_data = top/bottom\n",
    "    return soft_data\n",
    "\n",
    "# Either Tanh will work\n",
    "def Tanh(Layer):\n",
    "    pos = np.exp(Layer)\n",
    "    neg = np.exp(-Layer)\n",
    "    tanh_data = (pos-neg)/(pos+neg)\n",
    "    return tanh_data\n",
    "def Tanh2(Layer):\n",
    "    tanh_data = (np.exp(Layer) - np.exp(-Layer)) / (np.exp(Layer)+np.exp(-Layer))\n",
    "    return tanh_data\n"
   ]
  },
  {
   "cell_type": "code",
   "execution_count": 36,
   "metadata": {},
   "outputs": [],
   "source": [
    "linear_data = Linear(z_scored_data)\n",
    "relu_data = ReLu(z_scored_data)\n",
    "sig_data = Sigmoid(z_scored_data)\n",
    "soft_data = Softmax(z_scored_data)\n",
    "tanh1_data = Tanh(z_scored_data)\n",
    "tanh2_data = Tanh2(z_scored_data)\n"
   ]
  },
  {
   "cell_type": "markdown",
   "metadata": {},
   "source": [
    "## Fully Connected Layer"
   ]
  },
  {
   "cell_type": "markdown",
   "metadata": {},
   "source": [
    "Takes in the number of Features coming in and coming out. Weights should be random values in between -+10^-4\n",
    "The two attributes are the weight matrx and the the bias vector"
   ]
  },
  {
   "cell_type": "code",
   "execution_count": 43,
   "metadata": {},
   "outputs": [],
   "source": [
    "n,m = z_scored_data.shape"
   ]
  },
  {
   "cell_type": "code",
   "execution_count": 59,
   "metadata": {},
   "outputs": [],
   "source": [
    "x = np.array([[1,2,3,4],[5,6,7,8]])"
   ]
  },
  {
   "cell_type": "code",
   "execution_count": 46,
   "metadata": {},
   "outputs": [],
   "source": [
    "test = np.random.uniform(-0.0001, 0.0001,size=(6,2))\n",
    "weight = np.matmul(z_scored_data,test)\n",
    "bias = np.random.uniform(-0.0001, 0.0001,size=(1,2))"
   ]
  },
  {
   "cell_type": "code",
   "execution_count": 49,
   "metadata": {},
   "outputs": [],
   "source": [
    "h  = np.array([[-1,2,3,4]])"
   ]
  },
  {
   "cell_type": "code",
   "execution_count": 7,
   "metadata": {},
   "outputs": [],
   "source": [
    "empt_array = np.zeros((np.size(h),np.size(h)))"
   ]
  },
  {
   "cell_type": "code",
   "execution_count": null,
   "metadata": {},
   "outputs": [],
   "source": []
  },
  {
   "cell_type": "code",
   "execution_count": 12,
   "metadata": {},
   "outputs": [
    {
     "data": {
      "text/plain": [
       "array([[1., 0., 0., 0.],\n",
       "       [0., 1., 0., 0.],\n",
       "       [0., 0., 1., 0.],\n",
       "       [0., 0., 0., 1.]])"
      ]
     },
     "metadata": {},
     "output_type": "display_data"
    }
   ],
   "source": [
    "x = np.fill_diagonal(empt_array,np.ones(np.size(h)))\n",
    "display(empt_array)"
   ]
  },
  {
   "cell_type": "code",
   "execution_count": 47,
   "metadata": {},
   "outputs": [
    {
     "data": {
      "text/plain": [
       "array([[0, 2, 3, 4]])"
      ]
     },
     "metadata": {},
     "output_type": "display_data"
    }
   ],
   "source": []
  },
  {
   "cell_type": "code",
   "execution_count": 50,
   "metadata": {},
   "outputs": [
    {
     "data": {
      "text/plain": [
       "array([[-1,  1,  1,  1]])"
      ]
     },
     "metadata": {},
     "output_type": "display_data"
    },
    {
     "data": {
      "text/plain": [
       "array([[0, 1, 1, 1]])"
      ]
     },
     "metadata": {},
     "output_type": "display_data"
    }
   ],
   "source": [
    "h[h>=0]=1\n",
    "display(h)\n",
    "h[h<0]=0\n",
    "display(h)"
   ]
  },
  {
   "cell_type": "code",
   "execution_count": 22,
   "metadata": {},
   "outputs": [
    {
     "data": {
      "text/plain": [
       "array([[1., 0., 0., 0.],\n",
       "       [0., 1., 0., 0.],\n",
       "       [0., 0., 1., 0.],\n",
       "       [0., 0., 0., 1.]])"
      ]
     },
     "metadata": {},
     "output_type": "display_data"
    }
   ],
   "source": [
    "empt_array = np.zeros((np.size(h),np.size(h)))\n",
    "np.fill_diagonal(empt_array,h)\n",
    "display(empt_array)"
   ]
  },
  {
   "cell_type": "markdown",
   "metadata": {},
   "source": [
    "Sigmoid"
   ]
  },
  {
   "cell_type": "code",
   "execution_count": 52,
   "metadata": {},
   "outputs": [],
   "source": [
    "h  = np.array([[1,2,3,4]])\n",
    "h_forward = np.array([[0.73105858, 0.88079708, 0.95257413, 0.98201379]])"
   ]
  },
  {
   "cell_type": "code",
   "execution_count": 54,
   "metadata": {},
   "outputs": [],
   "source": [
    "h_diag = h_forward*(1-h_forward) # this works\n",
    "in_size = np.size(h_diag)"
   ]
  },
  {
   "cell_type": "code",
   "execution_count": 55,
   "metadata": {},
   "outputs": [
    {
     "data": {
      "text/plain": [
       "array([[0.19661193, 0.        , 0.        , 0.        ],\n",
       "       [0.        , 0.10499358, 0.        , 0.        ],\n",
       "       [0.        , 0.        , 0.04517666, 0.        ],\n",
       "       [0.        , 0.        , 0.        , 0.01766271]])"
      ]
     },
     "metadata": {},
     "output_type": "display_data"
    }
   ],
   "source": [
    "empt_array = np.zeros((in_size,in_size))\n",
    "np.fill_diagonal(empt_array,h_diag)\n",
    "display(empt_array)"
   ]
  },
  {
   "cell_type": "markdown",
   "metadata": {},
   "source": [
    "Tanh"
   ]
  },
  {
   "cell_type": "code",
   "execution_count": 56,
   "metadata": {},
   "outputs": [],
   "source": [
    "h_forward = np.array([[0.76159416, 0.96402758, 0.99505475, 0.9993293 ]])"
   ]
  },
  {
   "cell_type": "code",
   "execution_count": 57,
   "metadata": {},
   "outputs": [
    {
     "data": {
      "text/plain": [
       "array([[0.41997434, 0.07065082, 0.00986604, 0.00134095]])"
      ]
     },
     "metadata": {},
     "output_type": "display_data"
    }
   ],
   "source": [
    "display(1-h_forward**2)"
   ]
  },
  {
   "cell_type": "markdown",
   "metadata": {},
   "source": [
    "Softmax"
   ]
  },
  {
   "cell_type": "code",
   "execution_count": 65,
   "metadata": {},
   "outputs": [],
   "source": [
    "h_for = np.array([[0.0320586,  0.08714432, 0.23688282, 0.64391426]])"
   ]
  },
  {
   "cell_type": "code",
   "execution_count": 68,
   "metadata": {},
   "outputs": [
    {
     "name": "stdout",
     "output_type": "stream",
     "text": [
      "[0.08714432]\n"
     ]
    }
   ],
   "source": [
    "print(h_for[:,1])"
   ]
  },
  {
   "cell_type": "code",
   "execution_count": 71,
   "metadata": {},
   "outputs": [
    {
     "data": {
      "text/plain": [
       "4"
      ]
     },
     "execution_count": 71,
     "metadata": {},
     "output_type": "execute_result"
    }
   ],
   "source": [
    "len(h_for[0])"
   ]
  },
  {
   "cell_type": "code",
   "execution_count": 72,
   "metadata": {},
   "outputs": [
    {
     "name": "stdout",
     "output_type": "stream",
     "text": [
      "[0.0320586]\n",
      "[0.08714432]\n",
      "[0.23688282]\n",
      "[0.64391426]\n"
     ]
    }
   ],
   "source": [
    "for i in range(0,len(h_for[0])): # this works for location\n",
    "    print(h_for[:,i])"
   ]
  },
  {
   "cell_type": "code",
   "execution_count": 74,
   "metadata": {},
   "outputs": [
    {
     "data": {
      "text/plain": [
       "array([[0.19661193, 0.        , 0.        , 0.        ],\n",
       "       [0.        , 0.10499358, 0.        , 0.        ],\n",
       "       [0.        , 0.        , 0.04517666, 0.        ],\n",
       "       [0.        , 0.        , 0.        , 0.01766271]])"
      ]
     },
     "metadata": {},
     "output_type": "display_data"
    }
   ],
   "source": [
    "empt_array = np.zeros((in_size,in_size)) #empty 4x4 matrix\n",
    "np.fill_diagonal(empt_array,h_diag)\n",
    "display(empt_array)"
   ]
  },
  {
   "cell_type": "code",
   "execution_count": 76,
   "metadata": {},
   "outputs": [
    {
     "name": "stdout",
     "output_type": "stream",
     "text": [
      "0.19661193260838358 0\n",
      "0.0 0\n",
      "0.0 0\n",
      "0.0 0\n",
      "0.0 1\n",
      "0.10499358386347359 1\n",
      "0.0 1\n",
      "0.0 1\n",
      "0.0 2\n",
      "0.0 2\n",
      "0.045176656854743084 2\n",
      "0.0 2\n",
      "0.0 3\n",
      "0.0 3\n",
      "0.0 3\n",
      "0.017662706249835902 3\n"
     ]
    }
   ],
   "source": [
    "for col in range(0,len(empt_array[0])):\n",
    "    for row in range(0,len(empt_array)):\n",
    "        print(empt_array[row,col],col)"
   ]
  },
  {
   "cell_type": "code",
   "execution_count": 84,
   "metadata": {},
   "outputs": [],
   "source": [
    "ar_index = 0\n",
    "while ar_index < len(h_for[0]):\n",
    "    for mat_index in range(0,len(empt_array)):\n",
    "        if mat_index == ar_index:\n",
    "            empt_array[mat_index,ar_index] = h_for[:,ar_index]*(1-h_for[:,ar_index])\n",
    "        else:\n",
    "            empt_array[mat_index,ar_index] = -h_for[:,ar_index] * h_for[:,mat_index]\n",
    "    ar_index+=1\n"
   ]
  },
  {
   "cell_type": "code",
   "execution_count": 85,
   "metadata": {},
   "outputs": [
    {
     "data": {
      "text/plain": [
       "array([[ 0.03103085, -0.00279372, -0.00759413, -0.02064299],\n",
       "       [-0.00279372,  0.07955019, -0.02064299, -0.05611347],\n",
       "       [-0.00759413, -0.02064299,  0.18076935, -0.15253223],\n",
       "       [-0.02064299, -0.05611347, -0.15253223,  0.22928869]])"
      ]
     },
     "execution_count": 85,
     "metadata": {},
     "output_type": "execute_result"
    }
   ],
   "source": [
    "empt_array"
   ]
  },
  {
   "cell_type": "code",
   "execution_count": 86,
   "metadata": {},
   "outputs": [
    {
     "data": {
      "text/plain": [
       "array([[ 0.03103085, -0.00279372, -0.00759413, -0.02064299],\n",
       "       [-0.00279372,  0.07955019, -0.02064299, -0.05611347],\n",
       "       [-0.00759413, -0.02064299,  0.18076935, -0.15253223],\n",
       "       [-0.02064299, -0.05611347, -0.15253223,  0.22928869]])"
      ]
     },
     "execution_count": 86,
     "metadata": {},
     "output_type": "execute_result"
    }
   ],
   "source": [
    "np.transpose(empt_array)"
   ]
  },
  {
   "cell_type": "code",
   "execution_count": 5,
   "metadata": {},
   "outputs": [],
   "source": [
    "J = lambda ww1,ww2,xx1,xx2: (xx1*ww1 - 5*xx2*ww2 - 2)**2\n",
    "DJDW1 = lambda ww1,ww2,xx1,xx2: 2 * xx1 * (xx1*ww1 - 5*xx2*ww2 - 2)\n",
    "DJDW2 = lambda ww1,ww2,xx1,xx2: -10 * xx2 * (xx1*ww1 - 5*xx2*ww2 - 2)"
   ]
  },
  {
   "cell_type": "code",
   "execution_count": 6,
   "metadata": {},
   "outputs": [
    {
     "data": {
      "text/plain": [
       "[<mpl_toolkits.mplot3d.art3d.Line3D at 0x23fea670820>]"
      ]
     },
     "execution_count": 6,
     "metadata": {},
     "output_type": "execute_result"
    },
    {
     "data": {
      "image/png": "[encoded data removed]",
      "text/plain": [
       "<Figure size 432x288 with 1 Axes>"
      ]
     },
     "metadata": {
      "needs_background": "light"
     },
     "output_type": "display_data"
    }
   ],
   "source": [
    "learning_rate = 0.01\n",
    "epochs = 100\n",
    "w1,w2 = 0,0\n",
    "x1,x2 = 1,1\n",
    "j = [J(w1,w2,x1,x2)]\n",
    "grad_w1, grad_w2 = [DJDW1(w1,w2,x1,x2)],[DJDW2(w1,w2,x1,x2)]\n",
    "# cal j\n",
    "# cal gradient\n",
    "# loop\n",
    "\n",
    "store_w1,store_w2 = [w1],[w2]\n",
    "i = 0\n",
    "while i <= epochs:\n",
    "    trash_j = J(w1,w2,x1,x2)\n",
    "    trash_grad_w1,trash_grad_w2 = DJDW1(w1,w2,x1,x2),DJDW2(w1,w2,x1,x2)\n",
    "    w1 = w1 - learning_rate * trash_grad_w1\n",
    "    w2 = w2 - learning_rate * trash_grad_w2\n",
    "\n",
    "    j.append(trash_j)\n",
    "    store_w1.append(w1)\n",
    "    store_w2.append(w2)\n",
    "\n",
    "    i+=1\n",
    "\n",
    "\n",
    "\n",
    "    \n",
    "fig = plt.figure()\n",
    "ax = plt.axes(projection='3d')\n",
    "\n",
    "ax.plot3D(store_w1, store_w2, j, 'gray')"
   ]
  },
  {
   "cell_type": "code",
   "execution_count": 7,
   "metadata": {},
   "outputs": [
    {
     "data": {
      "text/plain": [
       "[<mpl_toolkits.mplot3d.art3d.Line3D at 0x23fea70ab30>]"
      ]
     },
     "execution_count": 7,
     "metadata": {},
     "output_type": "execute_result"
    },
    {
     "data": {
      "image/png": "[encoded data removed]",
      "text/plain": [
       "<Figure size 432x288 with 1 Axes>"
      ]
     },
     "metadata": {
      "needs_background": "light"
     },
     "output_type": "display_data"
    }
   ],
   "source": [
    "learning_rate = 0.01\n",
    "epochs = 100\n",
    "w1,w2 = 0,0\n",
    "x1,x2 = 1,1\n",
    "j = [(x1*w1 - 5*x2*w2 - 2)**2]\n",
    "store_w1,store_w2 = [2 * x1 * (x1*w1 - 5*x2*w2 - 2)],[-10 * x2 * (x1*w1 - 5*x2*w2 - 2)]\n",
    "\n",
    "index = 0\n",
    "while index <= epochs:\n",
    "    trash_j = (x1*w1 - 5*x2*w2 - 2)**2\n",
    "    trash_grad_w1 = 2 * x1 * (x1*w1 - 5*x2*w2 - 2)\n",
    "    trash_grad_w2 = -10 * x2 * (x1*w1 - 5*x2*w2 - 2)\n",
    "\n",
    "    w1 = w1 - learning_rate * trash_grad_w1\n",
    "    w2 = w2 - learning_rate * trash_grad_w2\n",
    "\n",
    "    j.append(trash_j)\n",
    "    store_w1.append(w1)\n",
    "    store_w2.append(w2)\n",
    "\n",
    "    index+=1\n",
    "\n",
    "fig = plt.figure()\n",
    "ax = plt.axes(projection='3d')\n",
    "\n",
    "ax.plot3D(store_w1, store_w2, j, 'gray')"
   ]
  },
  {
   "cell_type": "code",
   "execution_count": 8,
   "metadata": {},
   "outputs": [],
   "source": [
    "import matplotlib.pyplot as plt\n",
    "import numpy as np\n",
    "\n",
    "\n",
    "class Assignment3Part2:\n",
    "    def __init__(self):\n",
    "        self.x = np.array([[1],\n",
    "                           [1]])\n",
    "        self.w = np.array([[0],\n",
    "                           [0]])\n",
    "        self.eta = 0.01\n",
    "        self.epochs = 100\n",
    "\n",
    "    def J(self, w1, w2):\n",
    "        x1 = self.x[0][0]\n",
    "        x2 = self.x[1][0]\n",
    "        return (x1 * w1 - 5 * x2 * w2 - 2) ** 2\n",
    "\n",
    "    def dJdw1(self, w1, w2):\n",
    "        x1 = self.x[0][0]\n",
    "        x2 = self.x[1][0]\n",
    "        return 2 * x1 * (x1 * w1 - 5 * x2 * w2 - 2)\n",
    "\n",
    "    def dJdw2(self, w1, w2):\n",
    "        x1 = self.x[0][0]\n",
    "        x2 = self.x[1][0]\n",
    "        return -10 * x2 * (x1 * w1 - 5 * x2 * w2 - 2)\n",
    "\n",
    "    def gradient_descent(self, w1, w2, J):\n",
    "        aw1 = [w1]\n",
    "        aw2 = [w2]\n",
    "        aJ = [J]\n",
    "\n",
    "        ep = 0\n",
    "        while ep <= self.epochs:\n",
    "            J = self.J(w1, w2)\n",
    "            dJdw1 = self.dJdw1(w1, w2)\n",
    "            dJdw2 = self.dJdw2(w2, w2)\n",
    "            w1 = w1 - self.eta * dJdw1\n",
    "            w2 = w2 - self.eta * dJdw2\n",
    "\n",
    "            aw1.append(w1)\n",
    "            aw2.append(w2)\n",
    "            aJ.append(J)\n",
    "            ep += 1\n",
    "\n",
    "        return aw1, aw2, aJ\n",
    "\n",
    "    def plot_3d_line(self):\n",
    "        w1 = self.w[0][0]\n",
    "        w2 = self.w[1][0]\n",
    "        J = self.J(w1, w2)\n",
    "\n",
    "        aw1, aw2, aJ = self.gradient_descent(w1, w2, J)\n",
    "        print(aw1)\n",
    "        print(aw2)\n",
    "        print(aJ)\n",
    "\n",
    "        ax = plt.axes(projection='3d')\n",
    "        ax.plot3D(aw1, aw2, aJ, 'red')\n",
    "        ax.set_title('Gradient Descent for x=[1 1]')\n",
    "        ax.set_xlabel('w1')\n",
    "        ax.set_ylabel('w2')\n",
    "        ax.set_zlabel('J')\n",
    "        plt.show()\n",
    "\n",
    "    def run_all(self):\n",
    "        print(\"====================PART 2====================\")\n",
    "        print(\"SANITY CHECK: RESULTS FROM THEORY SECTION\")\n",
    "        w1 = self.w[0][0]\n",
    "        w2 = self.w[1][0]\n",
    "        print(\"J: \" + str(self.J(w1, w2)))\n",
    "        print(\"dJdw1: \" + str(self.dJdw1(w1, w2)))\n",
    "        print(\"dJdw2: \" + str(self.dJdw2(w1, w2)))\n",
    "        self.plot_3d_line()"
   ]
  },
  {
   "cell_type": "code",
   "execution_count": 10,
   "metadata": {},
   "outputs": [
    {
     "name": "stdout",
     "output_type": "stream",
     "text": [
      "====================PART 2====================\n",
      "SANITY CHECK: RESULTS FROM THEORY SECTION\n",
      "J: 4\n",
      "dJdw1: -4\n",
      "dJdw2: 20\n",
      "[0, 0.04, 0.0592, 0.066016, 0.06549568000000001, 0.06066576640000001, 0.05334045107200001, 0.044606442050560004, 0.0351139932095488, 0.02525152134535782, 0.015250375718450658, 0.005247699084081648, -0.004675856369599982, -0.014473500125407988, -0.024118726652819833, -0.03359717003771544, -0.042901717387732324, -0.05202957749044039, -0.060980522610909214, -0.06975583416085761, -0.07835767067894041, -0.08678868918614156, -0.09505181855488672, -0.10315012407526976, -0.11108672672865283, -0.11886475527501285, -0.12648731801807245, -0.1339574863668469, -0.14127828546499152, -0.14845268905098064, -0.15548361684713438, -0.1623739334564957, -0.16912644815514818, -0.17574391521271468, -0.18222903452086206, -0.18858445239788582, -0.1948127624903927, -0.2009165067248636, -0.2068981762809336, -0.21276021256965527, -0.21850500820686639, -0.22413490797589158, -0.22965220977627127, -0.23505916555668435, -0.24035798223111376, -0.24555082257782934, -0.25063980612107545, -0.25562700999553556, -0.2605144697937538, -0.26530418039675613, -0.26999809678814746, -0.27459813485198037, -0.2791061721546983, -0.28352404871145886, -0.2878535677371424, -0.29209649638234714, -0.29625456645466874, -0.3003294751255565, -0.30432288562303406, -0.3082364279105666, -0.3120716993523512, -0.31583026536530173, -0.31951366005799425, -0.3231233868568335, -0.3266609191196963, -0.3301277007373021, -0.33352514672255584, -0.33685464378810465, -0.34011755091234247, -0.3433151998940956, -0.34644889589621364, -0.34951991797828935, -0.35252951961872353, -0.35547892922634905, -0.35836935064182207, -0.36120196362898566, -0.3639779243564059, -0.3666983658692778, -0.36936439855189224, -0.37197711058085436, -0.3745375683692373, -0.37704681700185255, -0.3795058806618155, -0.3819157630485792, -0.38427744778760764, -0.38659189883185546, -0.38886006085521835, -0.39108285963811396, -0.3932612024453517, -0.39539597839644464, -0.39748805882851573, -0.39953829765194543, -0.4015475316989065, -0.4035165810649284, -0.40544624944362984, -0.40733732445475723, -0.4091905779656621, -0.41100676640634887, -0.4127866310782219, -0.41453089845665747, -0.4162402804875243, -0.4179154748777738]\n",
      "[0, -0.2, -0.32, -0.392, -0.43520000000000003, -0.46112000000000003, -0.47667200000000004, -0.4860032, -0.49160192, -0.494961152, -0.4969766912, -0.49818601472, -0.49891160883200003, -0.49934696529920003, -0.49960817917952, -0.49976490750771196, -0.4998589445046272, -0.4999153667027763, -0.49994922002166575, -0.49996953201299943, -0.49998171920779966, -0.4999890315246798, -0.49999341891480786, -0.49999605134888475, -0.49999763080933085, -0.49999857848559853, -0.4999991470913591, -0.4999994882548155, -0.4999996929528893, -0.4999998157717336, -0.49999988946304014, -0.4999999336778241, -0.49999996020669446, -0.4999999761240167, -0.49999998567441, -0.49999999140464596, -0.49999999484278757, -0.49999999690567254, -0.4999999981434035, -0.49999999888604213, -0.4999999993316253, -0.4999999995989752, -0.4999999997593851, -0.49999999985563104, -0.4999999999133786, -0.4999999999480272, -0.49999999996881633, -0.4999999999812898, -0.49999999998877387, -0.49999999999326433, -0.4999999999959586, -0.49999999999757516, -0.4999999999985451, -0.4999999999991271, -0.49999999999947625, -0.49999999999968575, -0.49999999999981143, -0.49999999999988687, -0.4999999999999321, -0.49999999999995925, -0.4999999999999756, -0.49999999999998535, -0.49999999999999123, -0.4999999999999947, -0.49999999999999684, -0.4999999999999981, -0.4999999999999989, -0.49999999999999933, -0.4999999999999996, -0.4999999999999997, -0.49999999999999983, -0.4999999999999999, -0.49999999999999994, -0.5, -0.5, -0.5, -0.5, -0.5, -0.5, -0.5, -0.5, -0.5, -0.5, -0.5, -0.5, -0.5, -0.5, -0.5, -0.5, -0.5, -0.5, -0.5, -0.5, -0.5, -0.5, -0.5, -0.5, -0.5, -0.5, -0.5, -0.5, -0.5]\n",
      "[4, 4, 0.9216, 0.11614464, 0.0006768322559999905, 0.058320163458662554, 0.13415061163657951, 0.1907072839664885, 0.22526646249803742, 0.24317087817989655, 0.2500572846265106, 0.25013384962937935, 0.24619238210573602, 0.239984557914309, 0.2325759869127228, 0.22460222250167824, 0.2164365034717658, 0.20829457513652444, 0.20029854637411168, 0.19251523199664425, 0.18497897870955685, 0.177705182671921, 0.17069826741154676, 0.16395638075366634, 0.15747415419421829, 0.15124432016997852, 0.14525865692970039, 0.13950853789757958, 0.13398524858848726, 0.1286801670366333, 0.12358486418681848, 0.11869115744310134, 0.11399113688879489, 0.10947717564494412, 0.10514193110226468, 0.10097834097898303, 0.09697961652105762, 0.09313923419959189, 0.08945092669503607, 0.0859086736257246, 0.08250669228329947, 0.07923942852317517, 0.07610154789118231, 0.07308792702835619, 0.07019364537302798, 0.06741397716619317, 0.06474438375857475, 0.062180506213575244, 0.05971815819799943, 0.0573533191512819, 0.055082127723430005, 0.052900875471779116, 0.05080600080674045, 0.04879408317693602, 0.04686183748438926, 0.045006108720748124, 0.04322386681584209, 0.04151220169019081, 0.039868318503409904, 0.03828953309076345, 0.03677326758042119, 0.0353170461842672, 0.03391849115538817, 0.03257531890564541, 0.03128533627698811, 0.030046436960422925, 0.028856598056792453, 0.027713876773744824, 0.026616407253505007, 0.02556239752626678, 0.02455012658422682, 0.02357794157149153, 0.022644255085260648, 0.02174754258388427, 0.02088633989756266, 0.020059240837619178, 0.019264894900449376, 0.018502005062391646, 0.01776932566192088, 0.01706566036570881, 0.016389860215226763, 0.01574082175070385, 0.015117485209375975, 0.014518832795084658, 0.01394388701639929, 0.013391709090549824, 0.012861397410564144, 0.012352086073105756, 0.011862943464610786, 0.011393170903412152, 0.010942001335637112, 0.010508698082745817, 0.010092553638669103, 0.00969288851457781, 0.009309050129400536, 0.008940411744276292, 0.00858637143920291, 0.008246351130210482, 0.007919795625454126, 0.007606171718686191, 0.007304967318626177, 0.007015690612808572]\n"
     ]
    },
    {
     "data": {
      "image/png": "[encoded data removed]",
      "text/plain": [
       "<Figure size 432x288 with 1 Axes>"
      ]
     },
     "metadata": {
      "needs_background": "light"
     },
     "output_type": "display_data"
    }
   ],
   "source": [
    "a = Assignment3Part2()\n",
    "a.run_all()"
   ]
  },
  {
   "cell_type": "markdown",
   "metadata": {},
   "source": [
    "Tensors\n",
    "\n",
    "We are currently making a matrix.... next we need to create a tensor........\n",
    "We currently output 1 matrix... the tensor is multiple matrixies being returned."
   ]
  },
  {
   "cell_type": "code",
   "execution_count": 6,
   "metadata": {},
   "outputs": [],
   "source": [
    "dataIn = np.genfromtxt('KidCreative.csv', delimiter=',')"
   ]
  },
  {
   "cell_type": "code",
   "execution_count": 18,
   "metadata": {},
   "outputs": [],
   "source": [
    "totRows = np.size(dataIn, axis=0) # Grab the total number of rows\n",
    "tensor = np.random.rand(0,totRows,totRows) # Create an empty tensor\n",
    "\n",
    "for row in range(totRows):\n",
    "    storage = np.zeros((totRows,totRows))\n",
    "    tensor = np.concatenate((tensor,storage[None]),axis=0)"
   ]
  },
  {
   "cell_type": "code",
   "execution_count": 19,
   "metadata": {},
   "outputs": [
    {
     "data": {
      "text/plain": [
       "(674, 674, 674)"
      ]
     },
     "execution_count": 19,
     "metadata": {},
     "output_type": "execute_result"
    }
   ],
   "source": [
    "tensor.shape"
   ]
  },
  {
   "cell_type": "code",
   "execution_count": 20,
   "metadata": {},
   "outputs": [
    {
     "data": {
      "text/plain": [
       "array([[[0., 0., 0., ..., 0., 0., 0.],\n",
       "        [0., 0., 0., ..., 0., 0., 0.],\n",
       "        [0., 0., 0., ..., 0., 0., 0.],\n",
       "        ...,\n",
       "        [0., 0., 0., ..., 0., 0., 0.],\n",
       "        [0., 0., 0., ..., 0., 0., 0.],\n",
       "        [0., 0., 0., ..., 0., 0., 0.]],\n",
       "\n",
       "       [[0., 0., 0., ..., 0., 0., 0.],\n",
       "        [0., 0., 0., ..., 0., 0., 0.],\n",
       "        [0., 0., 0., ..., 0., 0., 0.],\n",
       "        ...,\n",
       "        [0., 0., 0., ..., 0., 0., 0.],\n",
       "        [0., 0., 0., ..., 0., 0., 0.],\n",
       "        [0., 0., 0., ..., 0., 0., 0.]],\n",
       "\n",
       "       [[0., 0., 0., ..., 0., 0., 0.],\n",
       "        [0., 0., 0., ..., 0., 0., 0.],\n",
       "        [0., 0., 0., ..., 0., 0., 0.],\n",
       "        ...,\n",
       "        [0., 0., 0., ..., 0., 0., 0.],\n",
       "        [0., 0., 0., ..., 0., 0., 0.],\n",
       "        [0., 0., 0., ..., 0., 0., 0.]],\n",
       "\n",
       "       ...,\n",
       "\n",
       "       [[0., 0., 0., ..., 0., 0., 0.],\n",
       "        [0., 0., 0., ..., 0., 0., 0.],\n",
       "        [0., 0., 0., ..., 0., 0., 0.],\n",
       "        ...,\n",
       "        [0., 0., 0., ..., 0., 0., 0.],\n",
       "        [0., 0., 0., ..., 0., 0., 0.],\n",
       "        [0., 0., 0., ..., 0., 0., 0.]],\n",
       "\n",
       "       [[0., 0., 0., ..., 0., 0., 0.],\n",
       "        [0., 0., 0., ..., 0., 0., 0.],\n",
       "        [0., 0., 0., ..., 0., 0., 0.],\n",
       "        ...,\n",
       "        [0., 0., 0., ..., 0., 0., 0.],\n",
       "        [0., 0., 0., ..., 0., 0., 0.],\n",
       "        [0., 0., 0., ..., 0., 0., 0.]],\n",
       "\n",
       "       [[0., 0., 0., ..., 0., 0., 0.],\n",
       "        [0., 0., 0., ..., 0., 0., 0.],\n",
       "        [0., 0., 0., ..., 0., 0., 0.],\n",
       "        ...,\n",
       "        [0., 0., 0., ..., 0., 0., 0.],\n",
       "        [0., 0., 0., ..., 0., 0., 0.],\n",
       "        [0., 0., 0., ..., 0., 0., 0.]]])"
      ]
     },
     "metadata": {},
     "output_type": "display_data"
    }
   ],
   "source": [
    "display(tensor)"
   ]
  },
  {
   "cell_type": "code",
   "execution_count": 27,
   "metadata": {},
   "outputs": [],
   "source": [
    "def tensorConcat(tensor,storage):\n",
    "    return np.concatenate((tensor,storage[None]),axis=0)"
   ]
  },
  {
   "cell_type": "code",
   "execution_count": 48,
   "metadata": {},
   "outputs": [
    {
     "name": "stdout",
     "output_type": "stream",
     "text": [
      "(2, 4, 4)\n"
     ]
    },
    {
     "data": {
      "text/plain": [
       "array([[[1., 0., 0., 0.],\n",
       "        [0., 1., 0., 0.],\n",
       "        [0., 0., 1., 0.],\n",
       "        [0., 0., 0., 1.]],\n",
       "\n",
       "       [[1., 0., 0., 0.],\n",
       "        [0., 1., 0., 0.],\n",
       "        [0., 0., 1., 0.],\n",
       "        [0., 0., 0., 1.]]])"
      ]
     },
     "metadata": {},
     "output_type": "display_data"
    }
   ],
   "source": [
    "totRows = np.size(dataIn, axis=0) # Grab the total number of rows\n",
    "totColumns = np.size(dataIn, axis=1)\n",
    "tensor = np.random.rand(0,totColumns,totColumns) # Create an empty tensor\n",
    "\n",
    "dataIn[dataIn>=0]=1\n",
    "dataIn[dataIn<0]=0\n",
    "\n",
    "for row in range(totRows):\n",
    "    grad_relu_data = np.zeros((totColumns,totColumns))\n",
    "    np.fill_diagonal(grad_relu_data,dataIn[row])\n",
    "    tensor = tensorConcat(tensor,grad_relu_data)\n",
    "\n",
    "print(tensor.shape)\n",
    "display(tensor)"
   ]
  },
  {
   "cell_type": "code",
   "execution_count": 48,
   "metadata": {},
   "outputs": [
    {
     "name": "stdout",
     "output_type": "stream",
     "text": [
      "(2, 4, 4)\n"
     ]
    },
    {
     "data": {
      "text/plain": "array([[[  0.,   0.,   0.,   0.],\n        [  0.,  -2.,   0.,   0.],\n        [  0.,   0.,  -6.,   0.],\n        [  0.,   0.,   0., -12.]],\n\n       [[-20.,   0.,   0.,   0.],\n        [  0., -30.,   0.,   0.],\n        [  0.,   0., -42.,   0.],\n        [  0.,   0.,   0., -56.]]])"
     },
     "metadata": {},
     "output_type": "display_data"
    }
   ],
   "source": [
    "totRows = np.size(dataIn, axis=0) # Grab the total number of rows\n",
    "totColumns = np.size(dataIn, axis=1) # Grab the total number of columns\n",
    "tensor = np.random.rand(0,totColumns,totColumns) # Create an empty tensor\n",
    "\n",
    "for row in range(totRows):\n",
    "    diagonal = dataIn[row]*(1-dataIn[row]) # diagonal calculation\n",
    "    gradData = np.zeros((totColumns,totColumns))\n",
    "    np.fill_diagonal(gradData,diagonal)\n",
    "    tensor = np.concatenate((tensor,gradData[None]),axis=0)\n",
    "\n",
    "print(tensor.shape)\n",
    "display(tensor)"
   ]
  },
  {
   "cell_type": "code",
   "execution_count": 22,
   "outputs": [
    {
     "name": "stdout",
     "output_type": "stream",
     "text": [
      "4\n",
      "4\n"
     ]
    }
   ],
   "source": [
    "totColumns = np.size(dataIn, axis=1)\n",
    "print(len(dataIn[1]))\n",
    "print(totColumns)"
   ],
   "metadata": {
    "collapsed": false,
    "pycharm": {
     "name": "#%%\n"
    }
   }
  },
  {
   "cell_type": "code",
   "execution_count": 14,
   "outputs": [
    {
     "data": {
      "text/plain": "array([[  0.,  -2.,  -3.,  -4.],\n       [ -2.,  -2.,  -6.,  -8.],\n       [ -3.,  -6.,  -6., -12.],\n       [ -4.,  -8., -12., -12.]])"
     },
     "metadata": {},
     "output_type": "display_data"
    }
   ],
   "source": [
    "#dataIn = self.getPrevOut()\n",
    "totRows = np.size(dataIn, axis=0) # Grab the total number of rows\n",
    "totColumns = np.size(dataIn, axis=1) # Grab the total number of columns\n",
    "tensor = np.random.rand(0,totColumns,totColumns) # Create an empty tensor\n",
    "\n",
    "inSize = np.size(dataIn)\n",
    "grad_soft_data = np.zeros((inSize,inSize))\n",
    "ar_index = 0\n",
    "while ar_index < len(dataIn[0]):\n",
    "    for mat_index in range(0,len(grad_soft_data)):\n",
    "        if mat_index == ar_index:\n",
    "            grad_soft_data[mat_index,ar_index] = dataIn[:,ar_index]*(1-dataIn[:,ar_index])\n",
    "        else:\n",
    "            grad_soft_data[mat_index,ar_index] = -dataIn[:,ar_index] * dataIn[:,mat_index]\n",
    "    ar_index+=1\n",
    "\n",
    "display(grad_soft_data)"
   ],
   "metadata": {
    "collapsed": false,
    "pycharm": {
     "name": "#%%\n"
    }
   }
  },
  {
   "cell_type": "code",
   "execution_count": 57,
   "outputs": [
    {
     "data": {
      "text/plain": "array([[[  0.,  -2.,  -3.,  -4.],\n        [ -2.,  -2.,  -6.,  -8.],\n        [ -3.,  -6.,  -6., -12.],\n        [ -4.,  -8., -12., -12.]],\n\n       [[-20., -30., -35., -40.],\n        [-30., -30., -42., -48.],\n        [-35., -42., -42., -56.],\n        [-40., -48., -56., -56.]]])"
     },
     "metadata": {},
     "output_type": "display_data"
    }
   ],
   "source": [
    "totRows = np.size(dataIn, axis=0) # Grab the total number of rows\n",
    "totColumns = np.size(dataIn, axis=1) # Grab the total number of columns\n",
    "tensor = np.random.rand(0,totColumns,totColumns) # Create an empty tensor\n",
    "\n",
    "for row in range(totRows):\n",
    "    gradData = np.zeros((totColumns,totColumns))\n",
    "    aIndex = 0\n",
    "    while aIndex < totColumns:\n",
    "        for bIndex in range(0,len(gradData)):\n",
    "            if bIndex == aIndex:\n",
    "                gradData[bIndex,aIndex] = dataIn[row,aIndex]*(1-dataIn[row,aIndex])\n",
    "            else:\n",
    "                gradData[bIndex,aIndex] = -dataIn[row,aIndex] * dataIn[row,bIndex]\n",
    "        aIndex+=1\n",
    "\n",
    "    tensor = np.concatenate((tensor,gradData[None]),axis=0)\n",
    "\n",
    "display(tensor)"
   ],
   "metadata": {
    "collapsed": false,
    "pycharm": {
     "name": "#%%\n"
    }
   }
  },
  {
   "cell_type": "code",
   "execution_count": 47,
   "outputs": [
    {
     "data": {
      "text/plain": "(2, 4, 4)"
     },
     "execution_count": 47,
     "metadata": {},
     "output_type": "execute_result"
    }
   ],
   "source": [
    "tensor.shape"
   ],
   "metadata": {
    "collapsed": false,
    "pycharm": {
     "name": "#%%\n"
    }
   }
  },
  {
   "cell_type": "code",
   "execution_count": 54,
   "outputs": [],
   "source": [
    "dataIn = np.array([[1,2,3,4],[5,6,7,8]])"
   ],
   "metadata": {
    "collapsed": false,
    "pycharm": {
     "name": "#%%\n"
    }
   }
  },
  {
   "cell_type": "code",
   "execution_count": 56,
   "outputs": [],
   "source": [
    "totRows = np.size(dataIn, axis=0) # Grab the total number of rows\n",
    "totColumns = np.size(dataIn, axis=1) # Grab the total number of columns\n",
    "tensor1 = np.random.rand(0,totColumns,totColumns) # Create an empty tensor\n",
    "\n",
    "for row in range(totRows):\n",
    "    diagonal = 1-dataIn[row]**2 # diagonal calculation\n",
    "    gradData = np.zeros((totColumns,totColumns))\n",
    "    np.fill_diagonal(gradData,diagonal)\n",
    "    tensor1 = np.concatenate((tensor,gradData[None]),axis=0)\n",
    "\n",
    "a:b"
   ],
   "metadata": {
    "collapsed": false,
    "pycharm": {
     "name": "#%%\n"
    }
   }
  },
  {
   "cell_type": "code",
   "execution_count": 52,
   "outputs": [
    {
     "name": "stdout",
     "output_type": "stream",
     "text": [
      "[[  0.   0.   0.   0.]\n",
      " [  0.  -3.   0.   0.]\n",
      " [  0.   0.  -8.   0.]\n",
      " [  0.   0.   0. -15.]]\n"
     ]
    }
   ],
   "source": [
    "inSize = np.size(dataIn)\n",
    "h_diag = 1-dataIn**2\n",
    "grad_tanh_data = np.zeros((inSize,inSize))\n",
    "np.fill_diagonal(grad_tanh_data,h_diag)\n",
    "print(grad_tanh_data)"
   ],
   "metadata": {
    "collapsed": false,
    "pycharm": {
     "name": "#%%\n"
    }
   }
  },
  {
   "cell_type": "code",
   "execution_count": 61,
   "outputs": [
    {
     "ename": "ValueError",
     "evalue": "shape-mismatch for sum",
     "output_type": "error",
     "traceback": [
      "\u001B[1;31m---------------------------------------------------------------------------\u001B[0m",
      "\u001B[1;31mValueError\u001B[0m                                Traceback (most recent call last)",
      "Input \u001B[1;32mIn [61]\u001B[0m, in \u001B[0;36m<module>\u001B[1;34m\u001B[0m\n\u001B[1;32m----> 1\u001B[0m \u001B[43mnp\u001B[49m\u001B[38;5;241;43m.\u001B[39;49m\u001B[43mtensordot\u001B[49m\u001B[43m(\u001B[49m\u001B[43mtensor\u001B[49m\u001B[43m,\u001B[49m\u001B[43mtensor1\u001B[49m\u001B[43m)\u001B[49m\u001B[38;5;241m.\u001B[39mshape\n",
      "File \u001B[1;32m<__array_function__ internals>:180\u001B[0m, in \u001B[0;36mtensordot\u001B[1;34m(*args, **kwargs)\u001B[0m\n",
      "File \u001B[1;32m~\\AppData\\Local\\Programs\\Python\\Python310\\lib\\site-packages\\numpy\\core\\numeric.py:1110\u001B[0m, in \u001B[0;36mtensordot\u001B[1;34m(a, b, axes)\u001B[0m\n\u001B[0;32m   1108\u001B[0m             axes_b[k] \u001B[38;5;241m+\u001B[39m\u001B[38;5;241m=\u001B[39m ndb\n\u001B[0;32m   1109\u001B[0m \u001B[38;5;28;01mif\u001B[39;00m \u001B[38;5;129;01mnot\u001B[39;00m equal:\n\u001B[1;32m-> 1110\u001B[0m     \u001B[38;5;28;01mraise\u001B[39;00m \u001B[38;5;167;01mValueError\u001B[39;00m(\u001B[38;5;124m\"\u001B[39m\u001B[38;5;124mshape-mismatch for sum\u001B[39m\u001B[38;5;124m\"\u001B[39m)\n\u001B[0;32m   1112\u001B[0m \u001B[38;5;66;03m# Move the axes to sum over to the end of \"a\"\u001B[39;00m\n\u001B[0;32m   1113\u001B[0m \u001B[38;5;66;03m# and to the front of \"b\"\u001B[39;00m\n\u001B[0;32m   1114\u001B[0m notin \u001B[38;5;241m=\u001B[39m [k \u001B[38;5;28;01mfor\u001B[39;00m k \u001B[38;5;129;01min\u001B[39;00m \u001B[38;5;28mrange\u001B[39m(nda) \u001B[38;5;28;01mif\u001B[39;00m k \u001B[38;5;129;01mnot\u001B[39;00m \u001B[38;5;129;01min\u001B[39;00m axes_a]\n",
      "\u001B[1;31mValueError\u001B[0m: shape-mismatch for sum"
     ]
    }
   ],
   "source": [
    "np.tensordot(tensor,tensor1,).shape"
   ],
   "metadata": {
    "collapsed": false,
    "pycharm": {
     "name": "#%%\n"
    }
   }
  },
  {
   "cell_type": "code",
   "execution_count": 62,
   "outputs": [],
   "source": [
    "    X = np.array([[1, 2, 3, 4],\n",
    "                  [5, 6, 7, -1],\n",
    "                  [1, 2, 3, 5]])"
   ],
   "metadata": {
    "collapsed": false,
    "pycharm": {
     "name": "#%%\n"
    }
   }
  },
  {
   "cell_type": "code",
   "execution_count": 66,
   "outputs": [
    {
     "data": {
      "text/plain": "4"
     },
     "execution_count": 66,
     "metadata": {},
     "output_type": "execute_result"
    }
   ],
   "source": [
    "len(X[1])"
   ],
   "metadata": {
    "collapsed": false,
    "pycharm": {
     "name": "#%%\n"
    }
   }
  },
  {
   "cell_type": "code",
   "execution_count": 82,
   "outputs": [],
   "source": [
    "data = np.genfromtxt('mcpd_augmented.csv', delimiter=',', skip_header= True)"
   ],
   "metadata": {
    "collapsed": false,
    "pycharm": {
     "name": "#%%\n"
    }
   }
  },
  {
   "cell_type": "code",
   "execution_count": 73,
   "outputs": [],
   "source": [
    "np.random.seed(0) # for now... remember to take out\n",
    "np.random.shuffle(data) # shuffle data\n",
    "totRows = np.size(data, axis=0)\n",
    "X,Y = data[:round(totRows*(2/3)),:], data[round(totRows*(2/3)):,:]"
   ],
   "metadata": {
    "collapsed": false,
    "pycharm": {
     "name": "#%%\n"
    }
   }
  },
  {
   "cell_type": "code",
   "execution_count": 74,
   "outputs": [
    {
     "name": "stdout",
     "output_type": "stream",
     "text": [
      "1339\n",
      "893\n",
      "446\n"
     ]
    }
   ],
   "source": [
    "def split(data,percent):\n",
    "    np.random.seed(0) # for now... remember to take out\n",
    "    np.random.shuffle(data) # shuffle data\n",
    "    totRows = np.size(data, axis=0)\n",
    "    X,Y = data[:round(totRows*percent),:], data[round(totRows*percent):,:]\n",
    "    return X,Y"
   ],
   "metadata": {
    "collapsed": false,
    "pycharm": {
     "name": "#%%\n"
    }
   }
  },
  {
   "cell_type": "markdown",
   "source": [],
   "metadata": {
    "collapsed": false
   }
  },
  {
   "cell_type": "code",
   "execution_count": 83,
   "outputs": [
    {
     "data": {
      "text/plain": "array([[19.  ,  0.  , 27.9 , ...,  0.  ,  0.  ,  4.  ],\n       [18.  ,  1.  , 33.77, ...,  0.  ,  0.  ,  3.  ],\n       [28.  ,  1.  , 33.  , ...,  0.  ,  0.  ,  3.  ],\n       ...,\n       [18.  ,  0.  , 36.85, ...,  0.  ,  0.  ,  3.  ],\n       [21.  ,  0.  , 25.8 , ...,  0.  ,  0.  ,  4.  ],\n       [61.  ,  0.  , 29.07, ...,  1.  ,  0.  ,  2.  ]])"
     },
     "metadata": {},
     "output_type": "display_data"
    }
   ],
   "source": [
    "display(data[:,:-1])"
   ],
   "metadata": {
    "collapsed": false,
    "pycharm": {
     "name": "#%%\n"
    }
   }
  },
  {
   "cell_type": "code",
   "execution_count": 84,
   "outputs": [
    {
     "data": {
      "text/plain": "array([[16884.924 ],\n       [ 1725.5523],\n       [ 4449.462 ],\n       ...,\n       [ 1629.8335],\n       [ 2007.945 ],\n       [29141.3603]])"
     },
     "metadata": {},
     "output_type": "display_data"
    }
   ],
   "source": [
    "display(data[:,-1:])"
   ],
   "metadata": {
    "collapsed": false,
    "pycharm": {
     "name": "#%%\n"
    }
   }
  },
  {
   "cell_type": "code",
   "execution_count": 85,
   "outputs": [
    {
     "data": {
      "text/plain": "4"
     },
     "metadata": {},
     "output_type": "display_data"
    }
   ],
   "source": [
    "list = [1,2,3,4]\n",
    "display(list[-1])"
   ],
   "metadata": {
    "collapsed": false,
    "pycharm": {
     "name": "#%%\n"
    }
   }
  },
  {
   "cell_type": "code",
   "execution_count": 91,
   "outputs": [
    {
     "name": "stdout",
     "output_type": "stream",
     "text": [
      "2\n",
      "1\n"
     ]
    }
   ],
   "source": [
    "layers = [1,2,3,4]\n",
    "for backwardLayer in range(len(layers)-2,0,-1):\n",
    "    print(backwardLayer)"
   ],
   "metadata": {
    "collapsed": false,
    "pycharm": {
     "name": "#%%\n"
    }
   }
  },
  {
   "cell_type": "code",
   "execution_count": 93,
   "outputs": [
    {
     "data": {
      "text/plain": "2"
     },
     "execution_count": 93,
     "metadata": {},
     "output_type": "execute_result"
    }
   ],
   "source": [
    "layers[1]"
   ],
   "metadata": {
    "collapsed": false,
    "pycharm": {
     "name": "#%%\n"
    }
   }
  },
  {
   "cell_type": "code",
   "execution_count": 106,
   "outputs": [],
   "source": [
    "data = np.genfromtxt('KidCreative.csv', delimiter=',', skip_header= True)"
   ],
   "metadata": {
    "collapsed": false,
    "pycharm": {
     "name": "#%%\n"
    }
   }
  },
  {
   "cell_type": "code",
   "execution_count": 111,
   "outputs": [
    {
     "name": "stdout",
     "output_type": "stream",
     "text": [
      "[[1.00e+00 0.00e+00 2.40e+04 ... 0.00e+00 0.00e+00 0.00e+00]\n",
      " [2.00e+00 1.00e+00 7.50e+04 ... 1.00e+00 1.00e+00 1.00e+00]\n",
      " [3.00e+00 0.00e+00 4.60e+04 ... 1.00e+00 1.00e+00 0.00e+00]\n",
      " ...\n",
      " [6.71e+02 1.00e+00 7.50e+04 ... 1.00e+00 1.00e+00 0.00e+00]\n",
      " [6.72e+02 1.00e+00 5.10e+04 ... 1.00e+00 1.00e+00 0.00e+00]\n",
      " [6.73e+02 0.00e+00 1.10e+04 ... 0.00e+00 1.00e+00 0.00e+00]]\n"
     ]
    }
   ],
   "source": [
    "train_data = data[:, :-1]\n",
    "print(train_data)"
   ],
   "metadata": {
    "collapsed": false,
    "pycharm": {
     "name": "#%%\n"
    }
   }
  },
  {
   "cell_type": "code",
   "execution_count": 117,
   "outputs": [
    {
     "name": "stdout",
     "output_type": "stream",
     "text": [
      "1e-10\n",
      "1e-10\n",
      "1e-10\n"
     ]
    }
   ],
   "source": [
    "print(1 * (10 ** -10))\n",
    "print(1e-10)\n",
    "print(10**-10)"
   ],
   "metadata": {
    "collapsed": false,
    "pycharm": {
     "name": "#%%\n"
    }
   }
  },
  {
   "cell_type": "markdown",
   "source": [],
   "metadata": {
    "collapsed": false
   }
  }
 ],
 "metadata": {
  "interpreter": {
   "hash": "edaff77ae7d602ec89071fdb0521708702f25a53dbb66dda09fd40fb83456922"
  },
  "kernelspec": {
   "display_name": "Python 3.10.1 64-bit",
   "language": "python",
   "name": "python3"
  },
  "language_info": {
   "codemirror_mode": {
    "name": "ipython",
    "version": 3
   },
   "file_extension": ".py",
   "mimetype": "text/x-python",
   "name": "python",
   "nbconvert_exporter": "python",
   "pygments_lexer": "ipython3",
   "version": "3.10.1"
  },
  "orig_nbformat": 4
 },
 "nbformat": 4,
 "nbformat_minor": 2
}