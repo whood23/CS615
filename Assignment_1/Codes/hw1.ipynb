{
 "cells": [
  {
   "cell_type": "code",
   "execution_count": 1,
   "metadata": {},
   "outputs": [],
   "source": [
    "import numpy as np"
   ]
  },
  {
   "cell_type": "code",
   "execution_count": 2,
   "metadata": {},
   "outputs": [],
   "source": [
    "my_data = np.genfromtxt('mcpd_augmented.csv', delimiter=',')"
   ]
  },
  {
   "cell_type": "markdown",
   "metadata": {},
   "source": [
    "##### Index a column in numpy display(my_data[:,1])"
   ]
  },
  {
   "cell_type": "code",
   "execution_count": 41,
   "metadata": {},
   "outputs": [],
   "source": [
    "## Needs to set up the standard Deviation and the Standard mean in row form...\n",
    "\n",
    "mean_data = np.mean(my_data,axis=0)\n",
    "std_data = np.std(my_data,axis=0)\n",
    "std_data[std_data==0]=1"
   ]
  },
  {
   "cell_type": "markdown",
   "metadata": {},
   "source": [
    "Z-Score = (value-mean)/std"
   ]
  },
  {
   "cell_type": "code",
   "execution_count": 42,
   "metadata": {},
   "outputs": [],
   "source": [
    "z_scored_data = (my_data - mean_data) / std_data"
   ]
  },
  {
   "cell_type": "markdown",
   "metadata": {},
   "source": [
    "## Activation Layers"
   ]
  },
  {
   "cell_type": "code",
   "execution_count": 35,
   "metadata": {},
   "outputs": [],
   "source": [
    "def Linear(Layer):\n",
    "    linear_data = Layer\n",
    "    return linear_data\n",
    "def ReLu(Layer):\n",
    "    relu_data = np.maximum(0,Layer)\n",
    "    return relu_data\n",
    "def Sigmoid(Layer):\n",
    "    sig_data = 1/(1+np.exp(-Layer))\n",
    "    return sig_data\n",
    "def Softmax(Layer):\n",
    "    top, bottom = np.exp(Layer-(np.amax(Layer, axis=0))), np.sum(np.exp(Layer-(np.amax(Layer, axis=0))))\n",
    "    soft_data = top/bottom\n",
    "    return soft_data\n",
    "\n",
    "# Either Tanh will work\n",
    "def Tanh(Layer):\n",
    "    pos = np.exp(Layer)\n",
    "    neg = np.exp(-Layer)\n",
    "    tanh_data = (pos-neg)/(pos+neg)\n",
    "    return tanh_data\n",
    "def Tanh2(Layer):\n",
    "    tanh_data = (np.exp(Layer) - np.exp(-Layer)) / (np.exp(Layer)+np.exp(-Layer))\n",
    "    return tanh_data\n"
   ]
  },
  {
   "cell_type": "code",
   "execution_count": 36,
   "metadata": {},
   "outputs": [],
   "source": [
    "linear_data = Linear(z_scored_data)\n",
    "relu_data = ReLu(z_scored_data)\n",
    "sig_data = Sigmoid(z_scored_data)\n",
    "soft_data = Softmax(z_scored_data)\n",
    "tanh1_data = Tanh(z_scored_data)\n",
    "tanh2_data = Tanh2(z_scored_data)\n"
   ]
  },
  {
   "cell_type": "markdown",
   "metadata": {},
   "source": [
    "## Fully Connected Layer"
   ]
  },
  {
   "cell_type": "markdown",
   "metadata": {},
   "source": [
    "Takes in the number of Features coming in and coming out. Weights should be random values in between -+10^-4\n",
    "The two attributes are the weight matrx and the the bias vector"
   ]
  },
  {
   "cell_type": "code",
   "execution_count": 43,
   "metadata": {},
   "outputs": [],
   "source": [
    "n,m = z_scored_data.shape"
   ]
  },
  {
   "cell_type": "code",
   "execution_count": 19,
   "metadata": {},
   "outputs": [],
   "source": [
    "x = np.array([[1,2,3,4],[5,6,7,8]])"
   ]
  },
  {
   "cell_type": "code",
   "execution_count": 46,
   "metadata": {},
   "outputs": [],
   "source": [
    "test = np.random.uniform(-0.0001, 0.0001,size=(6,2))\n",
    "weight = np.matmul(z_scored_data,test)\n",
    "bias = np.random.uniform(-0.0001, 0.0001,size=(1,2))"
   ]
  },
  {
   "cell_type": "code",
   "execution_count": 25,
   "metadata": {},
   "outputs": [],
   "source": [
    "newset = weight+bias\n",
    "1338"
   ]
  }
 ],
 "metadata": {
  "interpreter": {
   "hash": "edaff77ae7d602ec89071fdb0521708702f25a53dbb66dda09fd40fb83456922"
  },
  "kernelspec": {
   "display_name": "Python 3.10.1 64-bit",
   "language": "python",
   "name": "python3"
  },
  "language_info": {
   "codemirror_mode": {
    "name": "ipython",
    "version": 3
   },
   "file_extension": ".py",
   "mimetype": "text/x-python",
   "name": "python",
   "nbconvert_exporter": "python",
   "pygments_lexer": "ipython3",
   "version": "3.10.1"
  },
  "orig_nbformat": 4
 },
 "nbformat": 4,
 "nbformat_minor": 2
}
