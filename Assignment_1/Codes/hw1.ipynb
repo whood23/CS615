{
 "cells": [
  {
   "cell_type": "code",
   "execution_count": 11,
   "metadata": {},
   "outputs": [],
   "source": [
    "import numpy as np"
   ]
  },
  {
   "cell_type": "code",
   "execution_count": 2,
   "metadata": {},
   "outputs": [],
   "source": [
    "my_data = np.genfromtxt('mcpd_augmented.csv', delimiter=',')"
   ]
  },
  {
   "cell_type": "markdown",
   "metadata": {},
   "source": [
    "##### Index a column in numpy display(my_data[:,1])"
   ]
  },
  {
   "cell_type": "code",
   "execution_count": 7,
   "metadata": {},
   "outputs": [],
   "source": [
    "## Needs to set up the standard Deviation and the Standard mean in row form...\n",
    "\n",
    "mean_data = np.mean(my_data,axis=0)\n",
    "std_data = np.std(my_data,axis=0)"
   ]
  },
  {
   "cell_type": "markdown",
   "metadata": {},
   "source": [
    "Z-Score = (value-mean)/std"
   ]
  },
  {
   "cell_type": "code",
   "execution_count": 8,
   "metadata": {},
   "outputs": [],
   "source": [
    "z_scored_data = (my_data - mean_data) / std_data"
   ]
  },
  {
   "cell_type": "markdown",
   "metadata": {},
   "source": [
    "## Activation Layers"
   ]
  },
  {
   "cell_type": "code",
   "execution_count": 20,
   "metadata": {},
   "outputs": [],
   "source": [
    "def Linear(Layer):\n",
    "    Linear = Layer\n",
    "    return Linear\n",
    "def ReLu(Layer):\n",
    "    relu_data = np.maximum(0,Layer)\n",
    "    return relu_data\n",
    "def Sigmoid(Layer):\n",
    "    sig_data = 1/(1+np.exp(-Layer))\n",
    "    return sig_data\n",
    "def Softmax(Layer):\n",
    "    pass\n",
    "\n",
    "# Either Tanh will work\n",
    "def Tanh(Layer):\n",
    "    pos = np.exp(Layer)\n",
    "    neg = np.exp(-Layer)\n",
    "    tanh_data = (pos-neg)/(pos+neg)\n",
    "    return tanh_data\n",
    "def Tanh2(Layer):\n",
    "    tanh_data = (np.exp(Layer) - np.exp(-Layer)) / (np.exp(Layer)+np.exp(-Layer))\n",
    "    return tanh_data\n"
   ]
  },
  {
   "cell_type": "code",
   "execution_count": 18,
   "metadata": {},
   "outputs": [],
   "source": [
    "sig_data = Sigmoid(z_scored_data)\n",
    "tanh1_data = Tanh(z_scored_data)\n",
    "tanh2_data = Tanh2(z_scored_data)"
   ]
  },
  {
   "cell_type": "code",
   "execution_count": 21,
   "metadata": {},
   "outputs": [],
   "source": [
    "relu_data = ReLu(z_scored_data)"
   ]
  }
 ],
 "metadata": {
  "interpreter": {
   "hash": "edaff77ae7d602ec89071fdb0521708702f25a53dbb66dda09fd40fb83456922"
  },
  "kernelspec": {
   "display_name": "Python 3.10.1 64-bit",
   "language": "python",
   "name": "python3"
  },
  "language_info": {
   "codemirror_mode": {
    "name": "ipython",
    "version": 3
   },
   "file_extension": ".py",
   "mimetype": "text/x-python",
   "name": "python",
   "nbconvert_exporter": "python",
   "pygments_lexer": "ipython3",
   "version": "3.9.7"
  },
  "orig_nbformat": 4
 },
 "nbformat": 4,
 "nbformat_minor": 2
}
