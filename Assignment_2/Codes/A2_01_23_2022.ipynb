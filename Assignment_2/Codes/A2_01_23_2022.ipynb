{
 "cells": [
  {
   "cell_type": "code",
   "execution_count": 2,
   "metadata": {},
   "outputs": [],
   "source": [
    "import numpy as np"
   ]
  },
  {
   "cell_type": "code",
   "execution_count": 2,
   "metadata": {},
   "outputs": [],
   "source": [
    "my_data = np.genfromtxt('mcpd_augmented.csv', delimiter=',')"
   ]
  },
  {
   "cell_type": "markdown",
   "metadata": {},
   "source": [
    "##### Index a column in numpy display(my_data[:,1])"
   ]
  },
  {
   "cell_type": "code",
   "execution_count": 41,
   "metadata": {},
   "outputs": [],
   "source": [
    "## Needs to set up the standard Deviation and the Standard mean in row form...\n",
    "\n",
    "mean_data = np.mean(my_data,axis=0)\n",
    "std_data = np.std(my_data,axis=0)\n",
    "std_data[std_data==0]=1"
   ]
  },
  {
   "cell_type": "markdown",
   "metadata": {},
   "source": [
    "Z-Score = (value-mean)/std"
   ]
  },
  {
   "cell_type": "code",
   "execution_count": 42,
   "metadata": {},
   "outputs": [],
   "source": [
    "z_scored_data = (my_data - mean_data) / std_data"
   ]
  },
  {
   "cell_type": "markdown",
   "metadata": {},
   "source": [
    "## Activation Layers"
   ]
  },
  {
   "cell_type": "code",
   "execution_count": 35,
   "metadata": {},
   "outputs": [],
   "source": [
    "def Linear(Layer):\n",
    "    linear_data = Layer\n",
    "    return linear_data\n",
    "def ReLu(Layer):\n",
    "    relu_data = np.maximum(0,Layer)\n",
    "    return relu_data\n",
    "def Sigmoid(Layer):\n",
    "    sig_data = 1/(1+np.exp(-Layer))\n",
    "    return sig_data\n",
    "def Softmax(Layer):\n",
    "    top, bottom = np.exp(Layer-(np.amax(Layer, axis=0))), np.sum(np.exp(Layer-(np.amax(Layer, axis=0))))\n",
    "    soft_data = top/bottom\n",
    "    return soft_data\n",
    "\n",
    "# Either Tanh will work\n",
    "def Tanh(Layer):\n",
    "    pos = np.exp(Layer)\n",
    "    neg = np.exp(-Layer)\n",
    "    tanh_data = (pos-neg)/(pos+neg)\n",
    "    return tanh_data\n",
    "def Tanh2(Layer):\n",
    "    tanh_data = (np.exp(Layer) - np.exp(-Layer)) / (np.exp(Layer)+np.exp(-Layer))\n",
    "    return tanh_data\n"
   ]
  },
  {
   "cell_type": "code",
   "execution_count": 36,
   "metadata": {},
   "outputs": [],
   "source": [
    "linear_data = Linear(z_scored_data)\n",
    "relu_data = ReLu(z_scored_data)\n",
    "sig_data = Sigmoid(z_scored_data)\n",
    "soft_data = Softmax(z_scored_data)\n",
    "tanh1_data = Tanh(z_scored_data)\n",
    "tanh2_data = Tanh2(z_scored_data)\n"
   ]
  },
  {
   "cell_type": "markdown",
   "metadata": {},
   "source": [
    "## Fully Connected Layer"
   ]
  },
  {
   "cell_type": "markdown",
   "metadata": {},
   "source": [
    "Takes in the number of Features coming in and coming out. Weights should be random values in between -+10^-4\n",
    "The two attributes are the weight matrx and the the bias vector"
   ]
  },
  {
   "cell_type": "code",
   "execution_count": 43,
   "metadata": {},
   "outputs": [],
   "source": [
    "n,m = z_scored_data.shape"
   ]
  },
  {
   "cell_type": "code",
   "execution_count": 59,
   "metadata": {},
   "outputs": [],
   "source": [
    "x = np.array([[1,2,3,4],[5,6,7,8]])"
   ]
  },
  {
   "cell_type": "code",
   "execution_count": 46,
   "metadata": {},
   "outputs": [],
   "source": [
    "test = np.random.uniform(-0.0001, 0.0001,size=(6,2))\n",
    "weight = np.matmul(z_scored_data,test)\n",
    "bias = np.random.uniform(-0.0001, 0.0001,size=(1,2))"
   ]
  },
  {
   "cell_type": "code",
   "execution_count": 49,
   "metadata": {},
   "outputs": [],
   "source": [
    "h  = np.array([[-1,2,3,4]])"
   ]
  },
  {
   "cell_type": "code",
   "execution_count": 7,
   "metadata": {},
   "outputs": [],
   "source": [
    "empt_array = np.zeros((np.size(h),np.size(h)))"
   ]
  },
  {
   "cell_type": "code",
   "execution_count": null,
   "metadata": {},
   "outputs": [],
   "source": []
  },
  {
   "cell_type": "code",
   "execution_count": 12,
   "metadata": {},
   "outputs": [
    {
     "data": {
      "text/plain": [
       "array([[1., 0., 0., 0.],\n",
       "       [0., 1., 0., 0.],\n",
       "       [0., 0., 1., 0.],\n",
       "       [0., 0., 0., 1.]])"
      ]
     },
     "metadata": {},
     "output_type": "display_data"
    }
   ],
   "source": [
    "x = np.fill_diagonal(empt_array,np.ones(np.size(h)))\n",
    "display(empt_array)"
   ]
  },
  {
   "cell_type": "code",
   "execution_count": 47,
   "metadata": {},
   "outputs": [
    {
     "data": {
      "text/plain": [
       "array([[0, 2, 3, 4]])"
      ]
     },
     "metadata": {},
     "output_type": "display_data"
    }
   ],
   "source": []
  },
  {
   "cell_type": "code",
   "execution_count": 50,
   "metadata": {},
   "outputs": [
    {
     "data": {
      "text/plain": [
       "array([[-1,  1,  1,  1]])"
      ]
     },
     "metadata": {},
     "output_type": "display_data"
    },
    {
     "data": {
      "text/plain": [
       "array([[0, 1, 1, 1]])"
      ]
     },
     "metadata": {},
     "output_type": "display_data"
    }
   ],
   "source": [
    "h[h>=0]=1\n",
    "display(h)\n",
    "h[h<0]=0\n",
    "display(h)"
   ]
  },
  {
   "cell_type": "code",
   "execution_count": 22,
   "metadata": {},
   "outputs": [
    {
     "data": {
      "text/plain": [
       "array([[1., 0., 0., 0.],\n",
       "       [0., 1., 0., 0.],\n",
       "       [0., 0., 1., 0.],\n",
       "       [0., 0., 0., 1.]])"
      ]
     },
     "metadata": {},
     "output_type": "display_data"
    }
   ],
   "source": [
    "empt_array = np.zeros((np.size(h),np.size(h)))\n",
    "np.fill_diagonal(empt_array,h)\n",
    "display(empt_array)"
   ]
  },
  {
   "cell_type": "markdown",
   "metadata": {},
   "source": [
    "Sigmoid"
   ]
  },
  {
   "cell_type": "code",
   "execution_count": 52,
   "metadata": {},
   "outputs": [],
   "source": [
    "h  = np.array([[1,2,3,4]])\n",
    "h_forward = np.array([[0.73105858, 0.88079708, 0.95257413, 0.98201379]])"
   ]
  },
  {
   "cell_type": "code",
   "execution_count": 54,
   "metadata": {},
   "outputs": [],
   "source": [
    "h_diag = h_forward*(1-h_forward) # this works\n",
    "in_size = np.size(h_diag)"
   ]
  },
  {
   "cell_type": "code",
   "execution_count": 55,
   "metadata": {},
   "outputs": [
    {
     "data": {
      "text/plain": [
       "array([[0.19661193, 0.        , 0.        , 0.        ],\n",
       "       [0.        , 0.10499358, 0.        , 0.        ],\n",
       "       [0.        , 0.        , 0.04517666, 0.        ],\n",
       "       [0.        , 0.        , 0.        , 0.01766271]])"
      ]
     },
     "metadata": {},
     "output_type": "display_data"
    }
   ],
   "source": [
    "empt_array = np.zeros((in_size,in_size))\n",
    "np.fill_diagonal(empt_array,h_diag)\n",
    "display(empt_array)"
   ]
  },
  {
   "cell_type": "markdown",
   "metadata": {},
   "source": [
    "Tanh"
   ]
  },
  {
   "cell_type": "code",
   "execution_count": 56,
   "metadata": {},
   "outputs": [],
   "source": [
    "h_forward = np.array([[0.76159416, 0.96402758, 0.99505475, 0.9993293 ]])"
   ]
  },
  {
   "cell_type": "code",
   "execution_count": 57,
   "metadata": {},
   "outputs": [
    {
     "data": {
      "text/plain": [
       "array([[0.41997434, 0.07065082, 0.00986604, 0.00134095]])"
      ]
     },
     "metadata": {},
     "output_type": "display_data"
    }
   ],
   "source": [
    "display(1-h_forward**2)"
   ]
  },
  {
   "cell_type": "markdown",
   "metadata": {},
   "source": [
    "Softmax"
   ]
  },
  {
   "cell_type": "code",
   "execution_count": 65,
   "metadata": {},
   "outputs": [],
   "source": [
    "h_for = np.array([[0.0320586,  0.08714432, 0.23688282, 0.64391426]])"
   ]
  },
  {
   "cell_type": "code",
   "execution_count": 68,
   "metadata": {},
   "outputs": [
    {
     "name": "stdout",
     "output_type": "stream",
     "text": [
      "[0.08714432]\n"
     ]
    }
   ],
   "source": [
    "print(h_for[:,1])"
   ]
  },
  {
   "cell_type": "code",
   "execution_count": 71,
   "metadata": {},
   "outputs": [
    {
     "data": {
      "text/plain": [
       "4"
      ]
     },
     "execution_count": 71,
     "metadata": {},
     "output_type": "execute_result"
    }
   ],
   "source": [
    "len(h_for[0])"
   ]
  },
  {
   "cell_type": "code",
   "execution_count": 72,
   "metadata": {},
   "outputs": [
    {
     "name": "stdout",
     "output_type": "stream",
     "text": [
      "[0.0320586]\n",
      "[0.08714432]\n",
      "[0.23688282]\n",
      "[0.64391426]\n"
     ]
    }
   ],
   "source": [
    "for i in range(0,len(h_for[0])): # this works for location\n",
    "    print(h_for[:,i])"
   ]
  },
  {
   "cell_type": "code",
   "execution_count": 74,
   "metadata": {},
   "outputs": [
    {
     "data": {
      "text/plain": [
       "array([[0.19661193, 0.        , 0.        , 0.        ],\n",
       "       [0.        , 0.10499358, 0.        , 0.        ],\n",
       "       [0.        , 0.        , 0.04517666, 0.        ],\n",
       "       [0.        , 0.        , 0.        , 0.01766271]])"
      ]
     },
     "metadata": {},
     "output_type": "display_data"
    }
   ],
   "source": [
    "empt_array = np.zeros((in_size,in_size)) #empty 4x4 matrix\n",
    "np.fill_diagonal(empt_array,h_diag)\n",
    "display(empt_array)"
   ]
  },
  {
   "cell_type": "code",
   "execution_count": 76,
   "metadata": {},
   "outputs": [
    {
     "name": "stdout",
     "output_type": "stream",
     "text": [
      "0.19661193260838358 0\n",
      "0.0 0\n",
      "0.0 0\n",
      "0.0 0\n",
      "0.0 1\n",
      "0.10499358386347359 1\n",
      "0.0 1\n",
      "0.0 1\n",
      "0.0 2\n",
      "0.0 2\n",
      "0.045176656854743084 2\n",
      "0.0 2\n",
      "0.0 3\n",
      "0.0 3\n",
      "0.0 3\n",
      "0.017662706249835902 3\n"
     ]
    }
   ],
   "source": [
    "for col in range(0,len(empt_array[0])):\n",
    "    for row in range(0,len(empt_array)):\n",
    "        print(empt_array[row,col],col)"
   ]
  },
  {
   "cell_type": "code",
   "execution_count": 84,
   "metadata": {},
   "outputs": [],
   "source": [
    "ar_index = 0\n",
    "while ar_index < len(h_for[0]):\n",
    "    for mat_index in range(0,len(empt_array)):\n",
    "        if mat_index == ar_index:\n",
    "            empt_array[mat_index,ar_index] = h_for[:,ar_index]*(1-h_for[:,ar_index])\n",
    "        else:\n",
    "            empt_array[mat_index,ar_index] = -h_for[:,ar_index] * h_for[:,mat_index]\n",
    "    ar_index+=1\n"
   ]
  },
  {
   "cell_type": "code",
   "execution_count": 85,
   "metadata": {},
   "outputs": [
    {
     "data": {
      "text/plain": [
       "array([[ 0.03103085, -0.00279372, -0.00759413, -0.02064299],\n",
       "       [-0.00279372,  0.07955019, -0.02064299, -0.05611347],\n",
       "       [-0.00759413, -0.02064299,  0.18076935, -0.15253223],\n",
       "       [-0.02064299, -0.05611347, -0.15253223,  0.22928869]])"
      ]
     },
     "execution_count": 85,
     "metadata": {},
     "output_type": "execute_result"
    }
   ],
   "source": [
    "empt_array"
   ]
  },
  {
   "cell_type": "code",
   "execution_count": 86,
   "metadata": {},
   "outputs": [
    {
     "data": {
      "text/plain": [
       "array([[ 0.03103085, -0.00279372, -0.00759413, -0.02064299],\n",
       "       [-0.00279372,  0.07955019, -0.02064299, -0.05611347],\n",
       "       [-0.00759413, -0.02064299,  0.18076935, -0.15253223],\n",
       "       [-0.02064299, -0.05611347, -0.15253223,  0.22928869]])"
      ]
     },
     "execution_count": 86,
     "metadata": {},
     "output_type": "execute_result"
    }
   ],
   "source": [
    "np.transpose(empt_array)"
   ]
  }
 ],
 "metadata": {
  "interpreter": {
   "hash": "edaff77ae7d602ec89071fdb0521708702f25a53dbb66dda09fd40fb83456922"
  },
  "kernelspec": {
   "display_name": "Python 3.10.1 64-bit",
   "language": "python",
   "name": "python3"
  },
  "language_info": {
   "codemirror_mode": {
    "name": "ipython",
    "version": 3
   },
   "file_extension": ".py",
   "mimetype": "text/x-python",
   "name": "python",
   "nbconvert_exporter": "python",
   "pygments_lexer": "ipython3",
   "version": "3.10.1"
  },
  "orig_nbformat": 4
 },
 "nbformat": 4,
 "nbformat_minor": 2
}
